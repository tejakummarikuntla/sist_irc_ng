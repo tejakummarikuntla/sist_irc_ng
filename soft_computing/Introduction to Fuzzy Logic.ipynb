{
 "cells": [
  {
   "cell_type": "markdown",
   "metadata": {},
   "source": [
    "## What is Fuzzy logic ?\n",
    "- Fuzzy logic is a mathematical language to express something.\n",
    "    - The means it has grammer, syntax, semantic like language for communication.\n",
    "\n",
    "- There are some other mathematical language also know\n",
    "    - Relational algebra (Operations on sets)\n",
    "    - Boolean algebra (Operations on boolean variables)\n",
    "    - Predicate algebara ( operations on well formed formulae, aslo called predicate propositions)\n",
    "- Fuzzy logic deals with Fuzzy set or Fuzzy algebra.\n",
    "\n",
    "**what is Fuzzy?**\n",
    "- Dictonary meaning: Not clear"
   ]
  },
  {
   "cell_type": "markdown",
   "metadata": {},
   "source": [
    "![Fuzzy logic](Images/Fuzzy_logic.png)"
   ]
  },
  {
   "cell_type": "markdown",
   "metadata": {},
   "source": [
    "## Concept of Fuzzy System:\n",
    "![concept_of_fuzzy_system](Images/concept_of_fuzzy_system.png)"
   ]
  },
  {
   "cell_type": "markdown",
   "metadata": {},
   "source": [
    "The Fuzzy system has elements:\n",
    "In the entire system, there exist Input and output which are the boundries and crisp. The input can be transformed into fuzzy form.\n",
    "- Fuzzy Elements\n",
    "- Fuzzy Sets\n",
    "- Fuzy rules\n",
    "- Fuzzy implications(Inferences)\n",
    "- Fuzzy System"
   ]
  },
  {
   "cell_type": "markdown",
   "metadata": {},
   "source": [
    "### Concept of Fuzzy Set:\n",
    "To understand the concept of fuzzy set it is better, if we first clear our ideas of **crisp set**.\n",
    "\n",
    "**Crisp Set:**\n",
    "- X = Populaitons of india\n",
    "- H = All Hindu populations = {h1, h2, h3, h4...hL}\n",
    "- M - All Muslim populaiton = {m1, m2, m3, m4...mN}\n",
    "\n",
    "\n",
    "**Fuzzy Set:**\n",
    "- X = all students in CSE\n",
    "- S = all Good Stdents\n",
    "$$S = \\{(s,g(s) | s \\in X\\}$$\n",
    "where, g(s) is a measurement of goodness of hte student S.\n",
    "\n",
    "**Example:**\n",
    "S = {(Rajat, 0.8), (Kabita, 0.7)}\n",
    "\n",
    "**Fuzzy set VS. Crisp Set**\n",
    "\n",
    "| Crisp Set | Fuzzy Set  |\n",
    "|---|---|\n",
    "| $S = \\{s|s \\in X\\}$  | $F = (s,\\mu(s))|s \\in X$  ,<br></br> and $\\mu(s)$ is the degree of s|\n",
    "| It is a collection of elements|  It is a collection of ordered pairs |\n",
    "| Inclusion of an element s $\\in$X in to S is crisp,<br></br> that is, has strict boundary YES or NO | Inclusion of an element s $\\in$ X into F ,<br></br> that is, if present, then with ,<br></br> a degree of membership.  |\n",
    "\n",
    "Note: A crisp set is a fuzzy set, but, a fuzzy set is not necessarily a crisp set.\n",
    "\n",
    "Example:\n",
    "H = {(h1, 1),(h2, 1),(h3, 0)}, ...(Hl,l))\n",
    "\n",
    "In Case of a crisp set, the elements are with extreme values of degree of membership namely either 1 or 0"
   ]
  },
  {
   "cell_type": "markdown",
   "metadata": {},
   "source": [
    "Member ship function can be with Discreat values and Continious values.\n",
    "\n",
    "### Fuzzy terminologies: \n",
    "#### Support:\n",
    "The support of a fuzzy set A is the set of all points x $\\in$ X such that $\\mu_{A}$>0\n",
    "\n",
    "$$Support(A) = \\{X|\\mu_{A}(A)>0\\}$$\n",
    "\n",
    "#### Core:\n",
    "The core of a fuzzy set A is the set of all points x n X such that $\\mu_{A}(X) = 1$\n",
    "\n",
    "$$core(A) = \\{X|\\mu_A(A)=1\\}$$\n",
    "\n",
    "#### Normaity:\n",
    "A fuzzy set A is a normal if its core is non-empty. In other words, we can always find a point x $\\in$ X such that $\\mu_A(X) = 1$\n",
    "\n",
    "#### Crossover point:\n",
    "A crossover point of a fuzzy set A is a point x $\\in$ X at which $\\mu_A(X) = 0.5.$ That is \n",
    "$$crossover(A) = \\{x\\mu_A(x) = 0.5\\}$$\n",
    "\n",
    "#### Fuzzy Singleton\n",
    "A fuzzy set whose support is a single point in X with $\\mu_{A}=1$ is called a fuzzy singleton. That is\n",
    "$$|A| = \\{x|\\mu_{A}(x) = 1\\}$$\n",
    "\n",
    "#### $\\alpha$ - cut and strong $\\alpha$-cut\n",
    "- The $\\alpha$-cut of a fuzzy set A is a crisp set definded by\n",
    "$$A_{\\alpha} = \\{x|\\mu_{A}(x)\\geq\\alpha\\}$$\n",
    "- The Strong $\\alpha$-cut is defined similarly: \n",
    "$$A^{'}= \\{x|\\mu_{A}(x)>\\alpha\\}$$\n",
    "\n",
    "#### Bandwidth\n",
    "For a fuzzy set, the bandwidth(or width) is defined as the distance between the two unique crossover points:\n",
    "$$Bandwidth(A) = |x_1 - x_2|$$\n",
    "where $\\mu(x_1) = \\mu(x_2) = 0.5$\n",
    "\n",
    "#### Symmetry\n"
   ]
  },
  {
   "cell_type": "code",
   "execution_count": null,
   "metadata": {},
   "outputs": [],
   "source": [
    " "
   ]
  }
 ],
 "metadata": {
  "kernelspec": {
   "display_name": "Python 3",
   "language": "python",
   "name": "python3"
  },
  "language_info": {
   "codemirror_mode": {
    "name": "ipython",
    "version": 3
   },
   "file_extension": ".py",
   "mimetype": "text/x-python",
   "name": "python",
   "nbconvert_exporter": "python",
   "pygments_lexer": "ipython3",
   "version": "3.7.1"
  }
 },
 "nbformat": 4,
 "nbformat_minor": 2
}
