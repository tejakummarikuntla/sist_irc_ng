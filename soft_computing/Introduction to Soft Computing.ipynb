{
 "cells": [
  {
   "cell_type": "markdown",
   "metadata": {},
   "source": [
    "# Soft Computing\n",
    "- Hard computing\n",
    "- Soft computing\n",
    "- How soft computing?\n",
    "- Hard computing vs. Soft computing\n",
    "- Hybrid Computing\n"
   ]
  },
  {
   "cell_type": "markdown",
   "metadata": {},
   "source": [
    "## Concept of Computation\n",
    "- Antecedent: In the context of computing, the input is called the Antecedent.\n",
    "- Consequent: The output is called as Cinsequent.\n",
    "\n",
    "in $y=f(x)$\n",
    "*f* is called as mapping function.\n",
    "*f* is also called as formal method or an Algorithm to solve a problem.\n",
    "\n",
    "In which, x is antecedent and y is Consequent\n",
    "\n",
    "### Characteristics of computing\n",
    "- Precise solution.\n",
    "- Controal action should be unabiguous and accurate.\n",
    "- Suitable for problem, which is easy to model mathematically.\n"
   ]
  },
  {
   "cell_type": "markdown",
   "metadata": {},
   "source": [
    "## Hard Computing\n",
    "In 1996, L.A. Zade (LAZ) introduced the term Hard Computing.\n",
    "- We term a comupting is Hard computing, if:\n",
    "    - Precise result is guaranteed\n",
    "    - control action is unambiguous.\n",
    "    - control action is formally defined (i.e., with mathematical model or algorithm).\n",
    "    \n",
    "### Examples:\n",
    "- Solving numerical problems (e.g., roots of polynomials, integration, etc).\n",
    "- Searching and sorting techniques.\n",
    "- Solving compuatational geometry problems(e.g., shortest tour in a graph, finding closest parir of oints given a set of points, etc.).\n"
   ]
  },
  {
   "cell_type": "markdown",
   "metadata": {},
   "source": [
    "## Soft Computing\n",
    "The term soft computing was proposed by the inventor of fuzzy logic, Lotfi A.Zaheh (LAZ) He describes it as follows.\n",
    "\n",
    "**Soft computing:**\n",
    "is a collection of methodologeis that aim to exploit the *tolereance for imprecision and uncertinty* to achieve tractability, robustness and *low solution cost*. Its principal constituents are fuzzylogic, neruo computation and probablisitic reasoning. The role modle for soft computing is the human mind.\n",
    "\n",
    "The soft computing concept follows three computing paradigms:\n",
    "- Fuzzy logic\n",
    "- Neuro-computing\n",
    "- Probabilistic reasoning\n",
    "\n",
    "### Characterisitcs of Soft computing\n",
    "- It does not require any mathematical modeling of porblem solving.\n",
    "- It may not yield the precise solution.\n",
    "- Algorithms are adaptive (i.e., it can adjust to the change of dynamic environment).\n",
    "- Use some biological inspired methodologies suchas genetics, evolution, Ant's behaviours, particle swarming, human nervous system, etc,).\n",
    "\n",
    "### Examples of soft computing:\n",
    "- Hand written character recognition (Using Neural Networks)\n",
    "- Calculating the maximum return by investing in particular banks  using probablistic reasoning(Evolutionary computing)[Genetic Algoritms] \n",
    "- Making the robot moment in an obstacle way with out colliding (Fuzzy logic).\n",
    "\n",
    "### Hard Computing vs Soft Computing\n",
    "\n",
    "| hard Computing  | Soft Computing  |\n",
    "|---|---|\n",
    "| It is deterministic.  | It incorporates stochasticity  |\n",
    "| It requires exacet input data.  |  It can deal with ambiguous and noisy data |\n",
    "| It is strictly seqential.  | It allow parallel computations.  |\n",
    "| It produces precise ansers.  | It can yield approximate answers |\n"
   ]
  },
  {
   "cell_type": "markdown",
   "metadata": {},
   "source": [
    "## Hybrid Computing\n",
    "It is the comibination of the conventional hard computing and emerging soft computing.\n",
    "The intersection of Hard computing and soft computing."
   ]
  },
  {
   "cell_type": "markdown",
   "metadata": {},
   "source": [
    "## Reference:\n",
    "[Introduction To Soft Computing](https://www.youtube.com/watch?v=-U-QCX2C8T8&list=PLJ5C_6qdAvBFqAYS0P9INAogIMklG8E-9&index=2)\n"
   ]
  }
 ],
 "metadata": {
  "kernelspec": {
   "display_name": "Python 3",
   "language": "python",
   "name": "python3"
  },
  "language_info": {
   "codemirror_mode": {
    "name": "ipython",
    "version": 3
   },
   "file_extension": ".py",
   "mimetype": "text/x-python",
   "name": "python",
   "nbconvert_exporter": "python",
   "pygments_lexer": "ipython3",
   "version": "3.7.1"
  }
 },
 "nbformat": 4,
 "nbformat_minor": 2
}
